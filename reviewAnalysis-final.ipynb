{
 "cells": [
  {
   "cell_type": "markdown",
   "id": "b9fe672e",
   "metadata": {},
   "source": [
    "# IMDB REVIEW ANALYSIS"
   ]
  },
  {
   "cell_type": "code",
   "execution_count": 1,
   "id": "0eb5c565",
   "metadata": {},
   "outputs": [],
   "source": [
    "import numpy as np\n",
    "import pandas as pd\n",
    "import re\n",
    "import string\n",
    "import time\n",
    "import nltk\n",
    "from tqdm import tqdm\n",
    "from sklearn.model_selection import train_test_split\n",
    "from sklearn.feature_extraction.text import  TfidfVectorizer\n",
    "from sklearn.linear_model import LogisticRegression\n",
    "from sklearn.metrics import accuracy_score, classification_report\n",
    "import joblib\n",
    "import os\n",
    "import matplotlib.pyplot as plt"
   ]
  },
  {
   "cell_type": "markdown",
   "id": "fcfc325a",
   "metadata": {},
   "source": [
    "### Loading the data:\n",
    "We are loading the data directly from the Kaggle dataset repository using the Kaggle CLI tool and saving it into a local directory."
   ]
  },
  {
   "cell_type": "code",
   "execution_count": 2,
   "id": "6581e49e",
   "metadata": {},
   "outputs": [
    {
     "name": "stderr",
     "output_type": "stream",
     "text": [
      "'kaggle' is not recognized as an internal or external command,\n",
      "operable program or batch file.\n"
     ]
    }
   ],
   "source": [
    "os.makedirs('datasets', exist_ok=True)\n",
    "!kaggle datasets download -d lakshmi25npathi/imdb-dataset-of-50k-movie-reviews -p datasets --unzip"
   ]
  },
  {
   "cell_type": "code",
   "execution_count": 3,
   "id": "ac27464b",
   "metadata": {},
   "outputs": [],
   "source": [
    "df = pd.read_csv('IMDB Dataset.csv')"
   ]
  },
  {
   "cell_type": "code",
   "execution_count": 4,
   "id": "17a97987",
   "metadata": {},
   "outputs": [
    {
     "data": {
      "image/png": "[encoded data removed]",
      "text/plain": [
       "<Figure size 640x480 with 1 Axes>"
      ]
     },
     "metadata": {},
     "output_type": "display_data"
    }
   ],
   "source": [
    "data = df['sentiment'].value_counts()\n",
    "plt.bar(data.index, data.values, color=['blue', 'red'])\n",
    "plt.title(\"Count of Positive and Negative Reviews\")\n",
    "plt.xlabel(\"Type of Sentiments\")\n",
    "plt.ylabel(\"Count of Reviews\")\n",
    "plt.show()"
   ]
  },
  {
   "cell_type": "markdown",
   "id": "2e560371",
   "metadata": {},
   "source": [
    "#### We realise that the dataset is balanced, good to proceed!"
   ]
  },
  {
   "cell_type": "code",
   "execution_count": 5,
   "id": "519a6307",
   "metadata": {},
   "outputs": [
    {
     "name": "stderr",
     "output_type": "stream",
     "text": [
      "[nltk_data] Downloading package stopwords to\n",
      "[nltk_data]     C:\\Users\\lithi\\AppData\\Roaming\\nltk_data...\n",
      "[nltk_data]   Package stopwords is already up-to-date!\n",
      "[nltk_data] Downloading package punkt to\n",
      "[nltk_data]     C:\\Users\\lithi\\AppData\\Roaming\\nltk_data...\n",
      "[nltk_data]   Package punkt is already up-to-date!\n"
     ]
    },
    {
     "data": {
      "text/plain": [
       "True"
      ]
     },
     "execution_count": 5,
     "metadata": {},
     "output_type": "execute_result"
    }
   ],
   "source": [
    "nltk.download('stopwords')\n",
    "nltk.download('punkt')"
   ]
  },
  {
   "cell_type": "code",
   "execution_count": 6,
   "id": "1a7f7b01",
   "metadata": {},
   "outputs": [],
   "source": [
    "stop_words = nltk.corpus.stopwords.words('english')\n",
    "stemmer = nltk.stem.SnowballStemmer(language='english')"
   ]
  },
  {
   "cell_type": "markdown",
   "id": "461f75a2",
   "metadata": {},
   "source": [
    "### Clean Reviews, Normalized: \n",
    "- Special Character Removal\n",
    "- Case Normalization"
   ]
  },
  {
   "cell_type": "code",
   "execution_count": 7,
   "id": "c70142b1",
   "metadata": {},
   "outputs": [],
   "source": [
    "def clean_text(feature):\n",
    "    cleaned_text = []\n",
    "    for review in tqdm(feature):\n",
    "        review = re.sub('[^A-Za-z0-9:)()]+', ' ', review)  \n",
    "        review = review.lower()  \n",
    "        cleaned_text.append(review)\n",
    "    return(cleaned_text)"
   ]
  },
  {
   "cell_type": "markdown",
   "id": "c5080bf7",
   "metadata": {},
   "source": [
    "### Tokenized and Stemmed:\n",
    "The text is split into individual words or tokens and reduced to its root form using the Snowball Stemmer, simplifying the text while preserving meaning."
   ]
  },
  {
   "cell_type": "code",
   "execution_count": 8,
   "id": "5135bb69",
   "metadata": {},
   "outputs": [],
   "source": [
    "def tokenizer(txt):\n",
    "    txt = ''.join([char for char in txt if char not in string.punctuation])\n",
    "    return [stemmer.stem(token) for token in nltk.word_tokenize(txt.lower())]"
   ]
  },
  {
   "cell_type": "code",
   "execution_count": 9,
   "id": "d283ce05",
   "metadata": {},
   "outputs": [
    {
     "name": "stderr",
     "output_type": "stream",
     "text": [
      "100%|██████████| 50000/50000 [00:02<00:00, 20675.45it/s]\n"
     ]
    }
   ],
   "source": [
    "df['cleaned_review'] = clean_text(df['review'])\n",
    "df['sentiment'] = df['sentiment'].map({'positive': 1, 'negative': 0})"
   ]
  },
  {
   "cell_type": "code",
   "execution_count": 10,
   "id": "5989fa7f",
   "metadata": {},
   "outputs": [],
   "source": [
    "x_train, x_test, y_train, y_test = train_test_split(df['cleaned_review'], df['sentiment'], test_size=0.2, random_state=42)"
   ]
  },
  {
   "cell_type": "code",
   "execution_count": 23,
   "id": "f978508c",
   "metadata": {},
   "outputs": [],
   "source": [
    "vectorizer = TfidfVectorizer(tokenizer=tokenizer, stop_words=nltk.corpus.stopwords.words('english'), max_features=2500)"
   ]
  },
  {
   "cell_type": "code",
   "execution_count": 17,
   "id": "2ac7246b",
   "metadata": {},
   "outputs": [
    {
     "name": "stderr",
     "output_type": "stream",
     "text": [
      "[nltk_data] Downloading package punkt to\n",
      "[nltk_data]     d:\\apps\\Anaconda\\envs\\myenv\\nltk_data...\n",
      "[nltk_data]   Unzipping tokenizers\\punkt.zip.\n",
      "[nltk_data] Downloading package stopwords to\n",
      "[nltk_data]     d:\\apps\\Anaconda\\envs\\myenv\\nltk_data...\n",
      "[nltk_data]   Unzipping corpora\\stopwords.zip.\n"
     ]
    },
    {
     "data": {
      "text/plain": [
       "True"
      ]
     },
     "execution_count": 17,
     "metadata": {},
     "output_type": "execute_result"
    }
   ],
   "source": [
    "import nltk\n",
    "nltk_data_dir = 'd:\\\\apps\\\\Anaconda\\\\envs\\\\myenv\\\\nltk_data' \n",
    "\n",
    "nltk.download('punkt', download_dir=nltk_data_dir)\n",
    "nltk.download('stopwords', download_dir=nltk_data_dir)\n",
    "nltk.download('punkt_tab')"
   ]
  },
  {
   "cell_type": "code",
   "execution_count": 24,
   "id": "0a93ee2c",
   "metadata": {},
   "outputs": [
    {
     "name": "stdout",
     "output_type": "stream",
     "text": [
      "Using TfidfVectorizer...\n"
     ]
    }
   ],
   "source": [
    "print(\"Using TfidfVectorizer...\")\n",
    "vectorizer.fit(x_train)\n",
    "train_inputs = vectorizer.transform(x_train)\n",
    "test_inputs = vectorizer.transform(x_test)"
   ]
  },
  {
   "cell_type": "code",
   "execution_count": 25,
   "id": "272035c0",
   "metadata": {},
   "outputs": [],
   "source": [
    "model = LogisticRegression(max_iter=1000)\n",
    "start_time = time.time()\n",
    "model.fit(train_inputs, y_train)\n",
    "elapsed_time = time.time() - start_time"
   ]
  },
  {
   "cell_type": "code",
   "execution_count": 26,
   "id": "a6d9b712",
   "metadata": {},
   "outputs": [
    {
     "name": "stdout",
     "output_type": "stream",
     "text": [
      "Accuracy with TfidfVectorizer: 0.8861\n",
      "Classification Report:\n",
      "               precision    recall  f1-score   support\n",
      "\n",
      "           0       0.90      0.87      0.88      4961\n",
      "           1       0.88      0.90      0.89      5039\n",
      "\n",
      "    accuracy                           0.89     10000\n",
      "   macro avg       0.89      0.89      0.89     10000\n",
      "weighted avg       0.89      0.89      0.89     10000\n",
      "\n"
     ]
    }
   ],
   "source": [
    "y_preds = model.predict(test_inputs)\n",
    "accuracy = accuracy_score(y_test, y_preds)\n",
    "print(f\"Accuracy with TfidfVectorizer: {accuracy:.4f}\")\n",
    "print(\"Classification Report:\\n\", classification_report(y_test, y_preds))"
   ]
  },
  {
   "cell_type": "markdown",
   "id": "c38723da",
   "metadata": {},
   "source": [
    "### Saving the model"
   ]
  },
  {
   "cell_type": "code",
   "execution_count": 27,
   "id": "c70c1637",
   "metadata": {},
   "outputs": [
    {
     "name": "stdout",
     "output_type": "stream",
     "text": [
      "Best model and vectorizer saved successfully.\n"
     ]
    }
   ],
   "source": [
    "joblib.dump(model, 'model.pkl')\n",
    "joblib.dump(vectorizer, 'vectorizer.pkl')\n",
    "print(\"Best model and vectorizer saved successfully.\")"
   ]
  },
  {
   "cell_type": "code",
   "execution_count": 38,
   "id": "84648569",
   "metadata": {},
   "outputs": [
    {
     "name": "stdout",
     "output_type": "stream",
     "text": [
      "Best model and vectorizer loaded successfully.\n"
     ]
    }
   ],
   "source": [
    "loaded_model = joblib.load('best_logistic_regression_model.pkl')\n",
    "loaded_vectorizer = joblib.load('best_vectorizer.pkl')\n",
    "print(\"Best model and vectorizer loaded successfully.\")"
   ]
  },
  {
   "cell_type": "code",
   "execution_count": 39,
   "id": "0d59b6c4",
   "metadata": {},
   "outputs": [
    {
     "name": "stdout",
     "output_type": "stream",
     "text": [
      "Prediction for sample text: Positive\n"
     ]
    }
   ],
   "source": [
    "sample_text = [\"This movie was fantastic! I loved the plot and the acting.\"]\n",
    "sample_vectorized = loaded_vectorizer.transform(sample_text)\n",
    "prediction = loaded_model.predict(sample_vectorized)\n",
    "print(f\"Prediction for sample text: {'Positive' if prediction[0] == 1 else 'Negative'}\")"
   ]
  },
  {
   "cell_type": "code",
   "execution_count": 40,
   "id": "b4bd60e2",
   "metadata": {},
   "outputs": [
    {
     "name": "stdout",
     "output_type": "stream",
     "text": [
      "Prediction for sample text: Negative\n"
     ]
    }
   ],
   "source": [
    "sample_text = [\"The movie was the worst.\"]\n",
    "sample_vectorized = loaded_vectorizer.transform(sample_text)\n",
    "prediction = loaded_model.predict(sample_vectorized)\n",
    "print(f\"Prediction for sample text: {'Positive' if prediction[0] == 1 else 'Negative'}\")"
   ]
  }
 ],
 "metadata": {
  "kernelspec": {
   "display_name": "myenv",
   "language": "python",
   "name": "python3"
  },
  "language_info": {
   "codemirror_mode": {
    "name": "ipython",
    "version": 3
   },
   "file_extension": ".py",
   "mimetype": "text/x-python",
   "name": "python",
   "nbconvert_exporter": "python",
   "pygments_lexer": "ipython3",
   "version": "3.11.10"
  }
 },
 "nbformat": 4,
 "nbformat_minor": 5
}
